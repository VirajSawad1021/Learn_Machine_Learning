{
 "cells": [
  {
   "cell_type": "code",
   "execution_count": 3,
   "id": "65a5ce4a",
   "metadata": {},
   "outputs": [],
   "source": [
    "from sklearn.datasets import load_diabetes\n",
    "import numpy as np\n",
    "from sklearn.metrics import r2_score\n",
    "from sklearn.model_selection import train_test_split\n",
    "import time\n",
    "from sklearn.linear_model import SGDRegressor\n",
    "from sklearn.preprocessing import StandardScaler"
   ]
  },
  {
   "cell_type": "code",
   "execution_count": 4,
   "id": "be0b16eb",
   "metadata": {},
   "outputs": [],
   "source": [
    "X, y = load_diabetes(return_X_y=True)\n",
    "X_train, X_test, y_train, y_test = train_test_split(X, y, test_size=0.2, random_state=2)"
   ]
  },
  {
   "cell_type": "code",
   "execution_count": 5,
   "id": "476884b0",
   "metadata": {},
   "outputs": [],
   "source": [
    "# Standardize data (important for SGD)\n",
    "scaler = StandardScaler()\n",
    "X_train_scaled = scaler.fit_transform(X_train)\n",
    "X_test_scaled = scaler.transform(X_test)\n"
   ]
  },
  {
   "cell_type": "code",
   "execution_count": 6,
   "id": "f8dcd4bc",
   "metadata": {},
   "outputs": [],
   "source": [
    "class CustomSGDRegressor:\n",
    "    \n",
    "    def __init__(self, learning_rate=0.01, epochs=100, batch_size=1):\n",
    "        self.coef_ = None\n",
    "        self.intercept_ = None\n",
    "        self.lr = learning_rate\n",
    "        self.epochs = epochs\n",
    "        self.batch_size = batch_size\n",
    "        self.loss_history = []\n",
    "        \n",
    "    def fit(self, X_train, y_train):\n",
    "        # Initialize parameters\n",
    "        self.intercept_ = 0\n",
    "        self.coef_ = np.zeros(X_train.shape[1])\n",
    "        \n",
    "        for epoch in range(self.epochs):\n",
    "            # Shuffle data each epoch\n",
    "            indices = np.arange(X_train.shape[0])\n",
    "            np.random.shuffle(indices)\n",
    "            \n",
    "            for i in range(0, X_train.shape[0], self.batch_size):\n",
    "                batch_indices = indices[i:i+self.batch_size]\n",
    "                X_batch = X_train[batch_indices]\n",
    "                y_batch = y_train[batch_indices]\n",
    "                \n",
    "                # Calculate prediction and error\n",
    "                y_hat = np.dot(X_batch, self.coef_) + self.intercept_\n",
    "                error = y_batch - y_hat\n",
    "                \n",
    "                # Update parameters\n",
    "                self.intercept_ += self.lr * np.mean(error)\n",
    "                self.coef_ += self.lr * np.dot(X_batch.T, error) / self.batch_size\n",
    "            \n",
    "            # Track loss\n",
    "            y_hat_full = np.dot(X_train, self.coef_) + self.intercept_\n",
    "            loss = np.mean((y_train - y_hat_full)**2)\n",
    "            self.loss_history.append(loss)\n",
    "            \n",
    "            if epoch % 10 == 0:\n",
    "                print(f\"Epoch {epoch}: Loss = {loss:.4f}\")\n",
    "    \n",
    "    def predict(self, X_test):\n",
    "        return np.dot(X_test, self.coef_) + self.intercept_"
   ]
  },
  {
   "cell_type": "code",
   "execution_count": 8,
   "id": "43ccb6b6",
   "metadata": {},
   "outputs": [
    {
     "name": "stdout",
     "output_type": "stream",
     "text": [
      "SGD Implementation:\n",
      "Epoch 0: Loss = 22672.1799\n",
      "Epoch 10: Loss = 4663.0443\n",
      "Epoch 20: Loss = 3046.0508\n",
      "Epoch 30: Loss = 2859.2605\n",
      "Epoch 40: Loss = 2850.4434\n"
     ]
    }
   ],
   "source": [
    "print(\"SGD Implementation:\")\n",
    "custom_sgd = CustomSGDRegressor(learning_rate=0.01, epochs=50, batch_size=32)\n",
    "start_time = time.time()\n",
    "custom_sgd.fit(X_train_scaled, y_train)\n",
    "custom_time = time.time() - start_time"
   ]
  },
  {
   "cell_type": "code",
   "execution_count": 9,
   "id": "dd07e232",
   "metadata": {},
   "outputs": [],
   "source": [
    "y_pred_custom = custom_sgd.predict(X_test_scaled)\n",
    "custom_r2 = r2_score(y_test, y_pred_custom)"
   ]
  },
  {
   "cell_type": "code",
   "execution_count": 10,
   "id": "2e6ee4de",
   "metadata": {},
   "outputs": [
    {
     "name": "stdout",
     "output_type": "stream",
     "text": [
      "\n",
      "Scikit-learn SGDRegressor:\n"
     ]
    }
   ],
   "source": [
    "# Scikit-learn's SGD\n",
    "print(\"\\nScikit-learn SGDRegressor:\")\n",
    "sklearn_sgd = SGDRegressor(max_iter=50, learning_rate='constant', \n",
    "                          eta0=0.01, random_state=2, tol=None)"
   ]
  },
  {
   "cell_type": "code",
   "execution_count": 11,
   "id": "6437fd8e",
   "metadata": {},
   "outputs": [],
   "source": [
    "start_time = time.time()\n",
    "sklearn_sgd.fit(X_train_scaled, y_train)\n",
    "sklearn_time = time.time() - start_time"
   ]
  },
  {
   "cell_type": "code",
   "execution_count": 12,
   "id": "a54fd532",
   "metadata": {},
   "outputs": [],
   "source": [
    "y_pred_sklearn = sklearn_sgd.predict(X_test_scaled)\n",
    "sklearn_r2 = r2_score(y_test, y_pred_sklearn)"
   ]
  },
  {
   "cell_type": "code",
   "execution_count": 13,
   "id": "2e6eca81",
   "metadata": {},
   "outputs": [
    {
     "name": "stdout",
     "output_type": "stream",
     "text": [
      "\n",
      "Results Comparison:\n",
      "Metric               Custom SGD      Sklearn SGD    \n",
      "R2 Score             0.4443          0.4368         \n",
      "Time (seconds)       0.0192          0.0192         \n",
      "Intercept            148.2655        152.0455       \n"
     ]
    }
   ],
   "source": [
    "# Results comparison\n",
    "print(\"\\nResults Comparison:\")\n",
    "print(f\"{'Metric':<20} {'Custom SGD':<15} {'Sklearn SGD':<15}\")\n",
    "print(f\"{'R2 Score':<20} {custom_r2:<15.4f} {sklearn_r2:<15.4f}\")\n",
    "print(f\"{'Time (seconds)':<20} {custom_time:<15.4f} {sklearn_time:<15.4f}\")\n",
    "print(f\"{'Intercept':<20} {custom_sgd.intercept_:<15.4f} {sklearn_sgd.intercept_[0]:<15.4f}\")"
   ]
  },
  {
   "cell_type": "code",
   "execution_count": 14,
   "id": "f81042e7",
   "metadata": {},
   "outputs": [
    {
     "data": {
      "image/png": "[encoded data removed]",
      "text/plain": [
       "<Figure size 1000x500 with 1 Axes>"
      ]
     },
     "metadata": {},
     "output_type": "display_data"
    }
   ],
   "source": [
    "# Plot convergence\n",
    "import matplotlib.pyplot as plt\n",
    "plt.figure(figsize=(10, 5))\n",
    "plt.plot(custom_sgd.loss_history, label='Custom SGD')\n",
    "plt.title(\"Training Loss Convergence\")\n",
    "plt.xlabel(\"Epochs\")\n",
    "plt.ylabel(\"Mean Squared Error\")\n",
    "plt.legend()\n",
    "plt.grid(True)\n",
    "plt.show()"
   ]
  },
  {
   "cell_type": "code",
   "execution_count": null,
   "id": "3d9d75a0",
   "metadata": {},
   "outputs": [],
   "source": []
  }
 ],
 "metadata": {
  "kernelspec": {
   "display_name": "base",
   "language": "python",
   "name": "python3"
  },
  "language_info": {
   "codemirror_mode": {
    "name": "ipython",
    "version": 3
   },
   "file_extension": ".py",
   "mimetype": "text/x-python",
   "name": "python",
   "nbconvert_exporter": "python",
   "pygments_lexer": "ipython3",
   "version": "3.12.7"
  }
 },
 "nbformat": 4,
 "nbformat_minor": 5
}
