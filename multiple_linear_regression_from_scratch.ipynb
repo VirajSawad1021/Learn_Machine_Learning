{
 "cells": [
  {
   "cell_type": "code",
   "execution_count": 3,
   "id": "160f4af2",
   "metadata": {},
   "outputs": [],
   "source": [
    "import numpy as np\n",
    "from sklearn.datasets import load_diabetes\n",
    "from sklearn.model_selection import train_test_split\n",
    "from sklearn.linear_model import LinearRegression\n",
    "from sklearn.metrics import r2_score"
   ]
  },
  {
   "cell_type": "code",
   "execution_count": 12,
   "id": "75ca3acf",
   "metadata": {},
   "outputs": [],
   "source": [
    "class LR:\n",
    "    def __init__(self):\n",
    "        self.coef_ = None\n",
    "        self.intercept_ = None\n",
    "        \n",
    "    def fit(self, X_train, y_train):\n",
    "        X_train = np.insert(X_train, 0, 1, axis=1)\n",
    "        betas = np.linalg.inv(np.dot(X_train.T, X_train)).dot(X_train.T).dot(y_train)\n",
    "        self.intercept_ = betas[0]\n",
    "        self.coef_ = betas[1:]\n",
    "    \n",
    "    def predict(self, X_test):\n",
    "        return np.dot(X_test, self.coef_) + self.intercept_"
   ]
  },
  {
   "cell_type": "code",
   "execution_count": 13,
   "id": "9e7acb2a",
   "metadata": {},
   "outputs": [],
   "source": [
    "X, y = load_diabetes(return_X_y=True)\n",
    "X_train, X_test, y_train, y_test = train_test_split(X, y, test_size=0.2, random_state=2)"
   ]
  },
  {
   "cell_type": "code",
   "execution_count": 14,
   "id": "950a921f",
   "metadata": {},
   "outputs": [],
   "source": [
    "my_model = LR()\n",
    "my_model.fit(X_train, y_train)\n",
    "my_predictions = my_model.predict(X_test)"
   ]
  },
  {
   "cell_type": "code",
   "execution_count": 15,
   "id": "77924fbd",
   "metadata": {},
   "outputs": [],
   "source": [
    "sklearn_model = LinearRegression()\n",
    "sklearn_model.fit(X_train, y_train)\n",
    "sklearn_predictions = sklearn_model.predict(X_test)"
   ]
  },
  {
   "cell_type": "code",
   "execution_count": 16,
   "id": "755d30ca",
   "metadata": {},
   "outputs": [
    {
     "name": "stdout",
     "output_type": "stream",
     "text": [
      "Coefficient Comparison:\n",
      "My Model - Intercept: 151.88331005254167\n",
      "Sklearn - Intercept: 151.88331005254167\n",
      "\n",
      "My Model Coefficients: [  -9.15865318 -205.45432163  516.69374454  340.61999905 -895.5520019\n",
      "  561.22067904  153.89310954  126.73139688  861.12700152   52.42112238]\n",
      "Sklearn Coefficients: [  -9.15865318 -205.45432163  516.69374454  340.61999905 -895.5520019\n",
      "  561.22067904  153.89310954  126.73139688  861.12700152   52.42112238]\n"
     ]
    }
   ],
   "source": [
    "print(\"Coefficient Comparison:\")\n",
    "print(\"My Model - Intercept:\", my_model.intercept_)\n",
    "print(\"Sklearn - Intercept:\", sklearn_model.intercept_)\n",
    "print(\"\\nMy Model Coefficients:\", my_model.coef_)\n",
    "print(\"Sklearn Coefficients:\", sklearn_model.coef_)"
   ]
  },
  {
   "cell_type": "code",
   "execution_count": 17,
   "id": "33961d06",
   "metadata": {},
   "outputs": [
    {
     "name": "stdout",
     "output_type": "stream",
     "text": [
      "\n",
      "R-squared Scores:\n",
      "My Model: 0.4399338661568968\n",
      "Sklearn: 0.4399338661568969\n"
     ]
    }
   ],
   "source": [
    "print(\"\\nR-squared Scores:\")\n",
    "print(\"My Model:\", r2_score(y_test, my_predictions))\n",
    "print(\"Sklearn:\", r2_score(y_test, sklearn_predictions))"
   ]
  },
  {
   "cell_type": "code",
   "execution_count": 18,
   "id": "dbcd1209",
   "metadata": {},
   "outputs": [
    {
     "name": "stdout",
     "output_type": "stream",
     "text": [
      "\n",
      "First 5 Predictions Comparison:\n",
      "My Model: [154.1213881  204.81835118 124.93755353 106.08950893 258.5348576 ]\n",
      "Sklearn: [154.1213881  204.81835118 124.93755353 106.08950893 258.5348576 ]\n"
     ]
    }
   ],
   "source": [
    "print(\"\\nFirst 5 Predictions Comparison:\")\n",
    "print(\"My Model:\", my_predictions[:5])\n",
    "print(\"Sklearn:\", sklearn_predictions[:5])"
   ]
  },
  {
   "cell_type": "code",
   "execution_count": null,
   "id": "83d182d8",
   "metadata": {},
   "outputs": [],
   "source": []
  }
 ],
 "metadata": {
  "kernelspec": {
   "display_name": "base",
   "language": "python",
   "name": "python3"
  },
  "language_info": {
   "codemirror_mode": {
    "name": "ipython",
    "version": 3
   },
   "file_extension": ".py",
   "mimetype": "text/x-python",
   "name": "python",
   "nbconvert_exporter": "python",
   "pygments_lexer": "ipython3",
   "version": "3.12.7"
  }
 },
 "nbformat": 4,
 "nbformat_minor": 5
}
