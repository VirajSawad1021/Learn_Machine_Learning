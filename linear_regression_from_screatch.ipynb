{
 "cells": [
  {
   "cell_type": "code",
   "execution_count": 6,
   "id": "b2a2ccbb",
   "metadata": {},
   "outputs": [],
   "source": [
    "import numpy as np\n",
    "import pandas as pd\n",
    "from sklearn.model_selection import train_test_split\n",
    "from sklearn.linear_model import LinearRegression\n",
    "from sklearn.metrics import r2_score\n",
    "from sklearn import datasets\n"
   ]
  },
  {
   "cell_type": "code",
   "execution_count": 2,
   "id": "7ee053e9",
   "metadata": {},
   "outputs": [],
   "source": [
    "class LR:\n",
    "    def __init__(self):\n",
    "        self.m = None\n",
    "        self.b = None\n",
    "        \n",
    "    def fit(self, X_train, y_train):\n",
    "        num = 0\n",
    "        den = 0\n",
    "        \n",
    "        for i in range(X_train.shape[0]):\n",
    "            num += ((X_train[i] - X_train.mean()) * (y_train[i] - y_train.mean()))\n",
    "            den += ((X_train[i] - X_train.mean()) * (X_train[i] - X_train.mean()))\n",
    "        \n",
    "        self.m = num / den\n",
    "        self.b = y_train.mean() - (self.m * X_train.mean())\n",
    "    \n",
    "    def predict(self, X_test):\n",
    "        return self.m * X_test + self.b"
   ]
  },
  {
   "cell_type": "code",
   "execution_count": 7,
   "id": "bc0cb1b1",
   "metadata": {},
   "outputs": [],
   "source": [
    "\n",
    "diabetes = datasets.load_diabetes()\n",
    "X = diabetes.data[:, 2]  # Using only one feature (BMI)\n",
    "y = diabetes.target"
   ]
  },
  {
   "cell_type": "code",
   "execution_count": 8,
   "id": "964500a7",
   "metadata": {},
   "outputs": [],
   "source": [
    "X_train, X_test, y_train, y_test = train_test_split(X, y, test_size=0.2, random_state=2)\n"
   ]
  },
  {
   "cell_type": "code",
   "execution_count": 9,
   "id": "41058482",
   "metadata": {},
   "outputs": [],
   "source": [
    "my_model = LR()\n",
    "my_model.fit(X_train, y_train)\n",
    "my_predictions = my_model.predict(X_test)"
   ]
  },
  {
   "cell_type": "code",
   "execution_count": 10,
   "id": "b9ac072b",
   "metadata": {},
   "outputs": [],
   "source": [
    "sklearn_model = LinearRegression()\n",
    "sklearn_model.fit(X_train.reshape(-1, 1), y_train)\n",
    "sklearn_predictions = sklearn_model.predict(X_test.reshape(-1, 1))"
   ]
  },
  {
   "cell_type": "code",
   "execution_count": 11,
   "id": "49d0939d",
   "metadata": {},
   "outputs": [
    {
     "name": "stdout",
     "output_type": "stream",
     "text": [
      "Coefficient Comparison:\n",
      "My Model - Slope: 974.482100, Intercept: 152.454049\n",
      "Sklearn - Slope: 974.482100, Intercept: 152.454049\n"
     ]
    }
   ],
   "source": [
    "print(\"Coefficient Comparison:\")\n",
    "print(f\"My Model - Slope: {my_model.m:.6f}, Intercept: {my_model.b:.6f}\")\n",
    "print(f\"Sklearn - Slope: {sklearn_model.coef_[0]:.6f}, Intercept: {sklearn_model.intercept_:.6f}\")"
   ]
  },
  {
   "cell_type": "code",
   "execution_count": 12,
   "id": "d2babad1",
   "metadata": {},
   "outputs": [
    {
     "name": "stdout",
     "output_type": "stream",
     "text": [
      "\n",
      "R-squared Scores:\n",
      "My Model: 0.2945\n",
      "Sklearn: 0.2945\n"
     ]
    }
   ],
   "source": [
    "print(\"\\nR-squared Scores:\")\n",
    "print(f\"My Model: {r2_score(y_test, my_predictions):.4f}\")\n",
    "print(f\"Sklearn: {r2_score(y_test, sklearn_predictions):.4f}\")"
   ]
  },
  {
   "cell_type": "code",
   "execution_count": 13,
   "id": "cca4be3d",
   "metadata": {},
   "outputs": [
    {
     "name": "stdout",
     "output_type": "stream",
     "text": [
      "\n",
      "First 5 Predictions Comparison:\n",
      "My Model: [155.8592353  228.33052685 138.00398955 105.44442379 219.92805826]\n",
      "Sklearn: [155.8592353  228.33052685 138.00398955 105.44442379 219.92805826]\n"
     ]
    }
   ],
   "source": [
    "print(\"\\nFirst 5 Predictions Comparison:\")\n",
    "print(f\"My Model: {my_predictions[:5]}\")\n",
    "print(f\"Sklearn: {sklearn_predictions[:5].flatten()}\")"
   ]
  },
  {
   "cell_type": "code",
   "execution_count": null,
   "id": "131d6c64",
   "metadata": {},
   "outputs": [],
   "source": []
  }
 ],
 "metadata": {
  "kernelspec": {
   "display_name": "base",
   "language": "python",
   "name": "python3"
  },
  "language_info": {
   "codemirror_mode": {
    "name": "ipython",
    "version": 3
   },
   "file_extension": ".py",
   "mimetype": "text/x-python",
   "name": "python",
   "nbconvert_exporter": "python",
   "pygments_lexer": "ipython3",
   "version": "3.12.7"
  }
 },
 "nbformat": 4,
 "nbformat_minor": 5
}
